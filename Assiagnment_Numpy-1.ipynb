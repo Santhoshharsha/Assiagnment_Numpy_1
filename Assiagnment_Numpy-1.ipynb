{
 "cells": [
  {
   "cell_type": "code",
   "execution_count": 7,
   "metadata": {},
   "outputs": [
    {
     "data": {
      "text/plain": [
       "array([1, 2, 3, 5])"
      ]
     },
     "execution_count": 7,
     "metadata": {},
     "output_type": "execute_result"
    }
   ],
   "source": [
    "import numpy as np\n",
    "# Create a input vector\n",
    "vector = np.array([1,2,3,5])\n",
    "vector"
   ]
  },
  {
   "cell_type": "code",
   "execution_count": 11,
   "metadata": {},
   "outputs": [],
   "source": [
    "#1) Write a function so that the columns of the output matrix are powers of the input vector. The order of the powers is determined by the increasing boolean argument. Specifically, when increasing is False, the i-th output column is the input vector raised element-wise to the power of N - i - 1.\n",
    "\n",
    "def geoProgression(vector,increasing):\n",
    "    N = len(vector)\n",
    "    alec = np.zeros(N)\n",
    "    alec2 = np.zeros(N)\n",
    "    for vect in vector:\n",
    "        for i in range(N):\n",
    "             alec[i] = vect**(N-i-1)\n",
    "        alec2 = np.column_stack((alec2, alec))\n",
    "    if(increasing == True):\n",
    "        return alec2[0:,1:]\n",
    "    else:\n",
    "        return alec2[0:,1:].T\n"
   ]
  },
  {
   "cell_type": "code",
   "execution_count": 12,
   "metadata": {},
   "outputs": [
    {
     "data": {
      "text/plain": [
       "array([[  1.,   1.,   1.,   1.],\n",
       "       [  8.,   4.,   2.,   1.],\n",
       "       [ 27.,   9.,   3.,   1.],\n",
       "       [125.,  25.,   5.,   1.]])"
      ]
     },
     "execution_count": 12,
     "metadata": {},
     "output_type": "execute_result"
    }
   ],
   "source": [
    "geoProgression(vector, increasing=False)"
   ]
  }
 ],
 "metadata": {
  "kernelspec": {
   "display_name": "Python 3",
   "language": "python",
   "name": "python3"
  },
  "language_info": {
   "codemirror_mode": {
    "name": "ipython",
    "version": 3
   },
   "file_extension": ".py",
   "mimetype": "text/x-python",
   "name": "python",
   "nbconvert_exporter": "python",
   "pygments_lexer": "ipython3",
   "version": "3.6.5"
  }
 },
 "nbformat": 4,
 "nbformat_minor": 2
}
